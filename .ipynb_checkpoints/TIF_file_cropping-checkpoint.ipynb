{
 "cells": [
  {
   "cell_type": "code",
   "execution_count": null,
   "id": "9bae85c9-73e7-42bc-9970-2add219427ca",
   "metadata": {},
   "outputs": [],
   "source": [
    "!pip install geopandas\n",
    "!pip install rasterio"
   ]
  },
  {
   "cell_type": "code",
   "execution_count": 7,
   "id": "686b2d60-a11f-40b9-94ef-91d34eee4ff4",
   "metadata": {},
   "outputs": [],
   "source": [
    "import pandas as pd\n",
    "import os\n",
    "import geopandas as gpd\n",
    "import csv\n",
    "import rasterio\n",
    "from rasterio.mask import mask\n",
    "import numpy as np"
   ]
  },
  {
   "cell_type": "code",
   "execution_count": 8,
   "id": "397014c6-c55f-44fd-929d-4bc34b4ba792",
   "metadata": {},
   "outputs": [],
   "source": [
    "with open('processed_EAs.csv', newline='') as f:\n",
    "    processed_EAs = [line.rstrip('\\n') for line in f]"
   ]
  },
  {
   "cell_type": "code",
   "execution_count": 9,
   "id": "694da3b5-bd3d-4ec0-b852-359107535788",
   "metadata": {},
   "outputs": [],
   "source": [
    "def crop_tif_with_shapefile(tif_dir, shapefile_path, output_dir):\n",
    "    # Load the shapefile\n",
    "    gdf = gpd.read_file(shapefile_path)\n",
    "\n",
    "    # Combine all polygons in the shapefile into a single geometry\n",
    "    unified_geometry = gdf.unary_union\n",
    "\n",
    "    # Ensure the output directory exists\n",
    "    os.makedirs(output_dir, exist_ok=True)\n",
    "\n",
    "    for root, dirs, files in os.walk(tif_dir):\n",
    "        for file in files:\n",
    "            if file.endswith('.tif'):\n",
    "                tif_path = os.path.join(root, file)\n",
    "                with rasterio.open(tif_path) as src:\n",
    "                    out_image, out_transform = mask(src, [unified_geometry], crop=True, nodata=np.nan)\n",
    "                    out_meta = src.meta\n",
    "\n",
    "                    # Update the metadata to reflect the number of layers, if necessary\n",
    "                    out_meta.update({\"driver\": \"GTiff\",\n",
    "                                     \"height\": out_image.shape[1],\n",
    "                                     \"width\": out_image.shape[2],\n",
    "                                     \"transform\": out_transform,\n",
    "                                     \"nodata\": np.nan})\n",
    "\n",
    "                    output_path = os.path.join(output_dir, file)\n",
    "                    with rasterio.open(output_path, \"w\", **out_meta) as dest:\n",
    "                        dest.write(out_image)\n",
    "\n",
    "# Example usage\n",
    "tif_dirs = ['MODIS_bands', 'NDBI']\n",
    "shapefile_path = 'GAMA_boundary_satellite/GAMA_boundary_satellite.shp'\n",
    "\n",
    "for tif_dir in tif_dirs:\n",
    "    output_dir = f'cropped_{tif_dir}'  # Define your output directory\n",
    "    crop_tif_with_shapefile(tif_dir, shapefile_path, output_dir)\n"
   ]
  },
  {
   "cell_type": "code",
   "execution_count": 5,
   "id": "831d8947-1ad2-41a6-b6c3-95eec562668b",
   "metadata": {},
   "outputs": [],
   "source": [
    "import rasterio\n",
    "from rasterio.warp import reproject, Resampling\n",
    "from scipy.interpolate import griddata\n",
    "import numpy as np\n",
    "\n",
    "# Open the LST and NDBI files\n",
    "with rasterio.open(\"cropped_MODIS_bands/MOD11A2_mean_2019_LST_Day_1km.tif\") as lst_src, rasterio.open(\"cropped_NDBI/MODIS_ndbi_2019.tif\") as ndbi_src:\n",
    "    # Get the transform and dimensions of the NDBI file\n",
    "    ndbi_transform = ndbi_src.transform\n",
    "    ndbi_width = ndbi_src.width\n",
    "    ndbi_height = ndbi_src.height\n",
    "    \n",
    "    # Create an empty array to store the LST values for each NDBI pixel\n",
    "    lst_values = np.zeros((ndbi_height, ndbi_width), dtype=np.float32)\n",
    "    \n",
    "    # Loop over each NDBI pixel and assign the corresponding LST value\n",
    "    for row in range(ndbi_height):\n",
    "        for col in range(ndbi_width):\n",
    "            # Get the coordinates of the current NDBI pixel\n",
    "            ndbi_x, ndbi_y = rasterio.transform.xy(ndbi_transform, row, col)\n",
    "            \n",
    "            # Convert the NDBI coordinates to the LST pixel coordinates\n",
    "            lst_row, lst_col = rasterio.transform.rowcol(lst_src.transform, ndbi_x, ndbi_y)\n",
    "            \n",
    "            # Check if the LST pixel coordinates are within the LST image bounds\n",
    "            if 0 <= lst_row < lst_src.height and 0 <= lst_col < lst_src.width:\n",
    "                # Assign the LST value to the corresponding NDBI pixel and convert to Celsius\n",
    "                lst_values[row, col] = lst_src.read(1)[lst_row, lst_col] * 0.02 - 273.15\n",
    "            else:\n",
    "                # If no overlapping pixel exists, assign NaN\n",
    "                lst_values[row, col] = np.nan\n",
    "    \n",
    "    # Find the pixels with missing LST values\n",
    "    mask = np.isnan(lst_values)\n",
    "    \n",
    "    # Create a meshgrid of coordinates for the NDBI grid\n",
    "    x, y = np.meshgrid(np.arange(ndbi_width), np.arange(ndbi_height))\n",
    "    \n",
    "    # Interpolate the missing values using nearest neighbor interpolation\n",
    "    lst_values[mask] = griddata((x[~mask], y[~mask]), lst_values[~mask], (x[mask], y[mask]), method='nearest')\n",
    "    \n",
    "    # Create a new GeoTIFF file for the LST values corresponding to NDBI pixels\n",
    "    with rasterio.open(\n",
    "        \"MOD11A2_mean_2019_LST_Day_500m_NDBI_aligned_Celsius.tif\",\n",
    "        \"w\",\n",
    "        driver=\"GTiff\",\n",
    "        width=ndbi_width,\n",
    "        height=ndbi_height,\n",
    "        count=1,\n",
    "        dtype=lst_values.dtype,\n",
    "        crs=ndbi_src.crs,\n",
    "        transform=ndbi_transform,\n",
    "    ) as dst:\n",
    "        dst.write(lst_values, 1)"
   ]
  },
  {
   "cell_type": "code",
   "execution_count": null,
   "id": "86bae29e-c9f8-4b56-a64f-f8f9f77fb32d",
   "metadata": {},
   "outputs": [],
   "source": []
  }
 ],
 "metadata": {
  "kernelspec": {
   "display_name": "Python 3 (ipykernel)",
   "language": "python",
   "name": "python3"
  },
  "language_info": {
   "codemirror_mode": {
    "name": "ipython",
    "version": 3
   },
   "file_extension": ".py",
   "mimetype": "text/x-python",
   "name": "python",
   "nbconvert_exporter": "python",
   "pygments_lexer": "ipython3",
   "version": "3.11.6"
  }
 },
 "nbformat": 4,
 "nbformat_minor": 5
}
