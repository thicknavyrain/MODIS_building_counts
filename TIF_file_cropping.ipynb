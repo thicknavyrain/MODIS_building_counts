{
 "cells": [
  {
   "cell_type": "code",
   "execution_count": 25,
   "id": "686b2d60-a11f-40b9-94ef-91d34eee4ff4",
   "metadata": {},
   "outputs": [],
   "source": [
    "import pandas as pd\n",
    "import os\n",
    "import geopandas as gpd\n",
    "import csv\n",
    "import rasterio\n",
    "from rasterio.mask import mask\n",
    "import numpy as np"
   ]
  },
  {
   "cell_type": "code",
   "execution_count": 26,
   "id": "397014c6-c55f-44fd-929d-4bc34b4ba792",
   "metadata": {},
   "outputs": [],
   "source": [
    "with open('processed_EAs.csv', newline='') as f:\n",
    "    processed_EAs = [line.rstrip('\\n') for line in f]"
   ]
  },
  {
   "cell_type": "code",
   "execution_count": 5,
   "id": "694da3b5-bd3d-4ec0-b852-359107535788",
   "metadata": {},
   "outputs": [],
   "source": [
    "def crop_tif_with_shapefile(tif_dir, shapefile_path, output_dir):\n",
    "    # Load the shapefile\n",
    "    gdf = gpd.read_file(shapefile_path)\n",
    "\n",
    "    # Combine all polygons in the shapefile into a single geometry\n",
    "    unified_geometry = gdf.unary_union\n",
    "\n",
    "    # Ensure the output directory exists\n",
    "    os.makedirs(output_dir, exist_ok=True)\n",
    "\n",
    "    for root, dirs, files in os.walk(tif_dir):\n",
    "        for file in files:\n",
    "            if file.endswith('.tif'):\n",
    "                tif_path = os.path.join(root, file)\n",
    "                with rasterio.open(tif_path) as src:\n",
    "                    out_image, out_transform = mask(src, [unified_geometry], crop=True, nodata=np.nan)\n",
    "                    out_meta = src.meta\n",
    "\n",
    "                    # Update the metadata to reflect the number of layers, if necessary\n",
    "                    out_meta.update({\"driver\": \"GTiff\",\n",
    "                                     \"height\": out_image.shape[1],\n",
    "                                     \"width\": out_image.shape[2],\n",
    "                                     \"transform\": out_transform,\n",
    "                                     \"nodata\": np.nan})\n",
    "\n",
    "                    output_path = os.path.join(output_dir, file)\n",
    "                    with rasterio.open(output_path, \"w\", **out_meta) as dest:\n",
    "                        dest.write(out_image)\n",
    "\n",
    "# Example usage\n",
    "tif_dirs = ['MODIS_bands', 'NDBI']\n",
    "shapefile_path = 'GAMA_boundary_satellite/GAMA_boundary_satellite.shp'\n",
    "\n",
    "for tif_dir in tif_dirs:\n",
    "    output_dir = f'cropped_{tif_dir}'  # Define your output directory\n",
    "    crop_tif_with_shapefile(tif_dir, shapefile_path, output_dir)\n"
   ]
  },
  {
   "cell_type": "code",
   "execution_count": null,
   "id": "4ac95871-49a5-4698-9b5f-920be96dfb6a",
   "metadata": {},
   "outputs": [],
   "source": []
  }
 ],
 "metadata": {
  "kernelspec": {
   "display_name": "Python 3 (ipykernel)",
   "language": "python",
   "name": "python3"
  },
  "language_info": {
   "codemirror_mode": {
    "name": "ipython",
    "version": 3
   },
   "file_extension": ".py",
   "mimetype": "text/x-python",
   "name": "python",
   "nbconvert_exporter": "python",
   "pygments_lexer": "ipython3",
   "version": "3.11.6"
  }
 },
 "nbformat": 4,
 "nbformat_minor": 5
}
